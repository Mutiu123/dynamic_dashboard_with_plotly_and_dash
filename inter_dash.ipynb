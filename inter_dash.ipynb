{
 "cells": [
  {
   "cell_type": "code",
   "execution_count": 1,
   "id": "29948082",
   "metadata": {},
   "outputs": [
    {
     "name": "stderr",
     "output_type": "stream",
     "text": [
      "c:\\Users\\adegb\\miniconda3\\envs\\ML-WK\\Lib\\site-packages\\dash\\dash.py:634: UserWarning:\n",
      "\n",
      "JupyterDash is deprecated, use Dash instead.\n",
      "See https://dash.plotly.com/dash-in-jupyter for more details.\n",
      "\n"
     ]
    },
    {
     "data": {
      "text/html": [
       "\n",
       "        <iframe\n",
       "            width=\"100%\"\n",
       "            height=\"650\"\n",
       "            src=\"http://127.0.0.1:8050/\"\n",
       "            frameborder=\"0\"\n",
       "            allowfullscreen\n",
       "            \n",
       "        ></iframe>\n",
       "        "
      ],
      "text/plain": [
       "<IPython.lib.display.IFrame at 0x13bbf516cd0>"
      ]
     },
     "metadata": {},
     "output_type": "display_data"
    }
   ],
   "source": [
    "from dash import html, dcc\n",
    "from dash.dependencies import Output, Input\n",
    "from jupyter_dash import JupyterDash\n",
    "from dash.exceptions import PreventUpdate\n",
    "\n",
    "app = JupyterDash(__name__)\n",
    "\n",
    "app.layout = html.Div(\n",
    "    [\"Select a State to Analyse: \",\n",
    "    dcc.Dropdown(\n",
    "        id=\"State Dropdown\",\n",
    "        options=[\"California\", \"Oregon\", \"Washington\"]\n",
    "    ),\n",
    "    html.Div(id=\"text-output\") \n",
    "               \n",
    "])\n",
    "\n",
    "@app.callback(\n",
    "    Output(\"text-output\", \"children\"),\n",
    "    Input(\"State Dropdown\", \"value\")\n",
    ")\n",
    "def update_output_div(state):\n",
    "    if not state:\n",
    "        raise PreventUpdate\n",
    "    return f\"State Selected: {state}\"\n",
    "\n",
    "if __name__ == \"__main__\":\n",
    "    app.run(mode=\"inline\", debug=True)"
   ]
  }
 ],
 "metadata": {
  "kernelspec": {
   "display_name": "ML-WK",
   "language": "python",
   "name": "python3"
  },
  "language_info": {
   "codemirror_mode": {
    "name": "ipython",
    "version": 3
   },
   "file_extension": ".py",
   "mimetype": "text/x-python",
   "name": "python",
   "nbconvert_exporter": "python",
   "pygments_lexer": "ipython3",
   "version": "3.11.5"
  }
 },
 "nbformat": 4,
 "nbformat_minor": 5
}
