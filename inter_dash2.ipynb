{
 "cells": [
  {
   "cell_type": "code",
   "execution_count": 4,
   "id": "31473fc2",
   "metadata": {},
   "outputs": [
    {
     "name": "stderr",
     "output_type": "stream",
     "text": [
      "c:\\Users\\adegb\\miniconda3\\envs\\ML-WK\\Lib\\site-packages\\dash\\dash.py:634: UserWarning:\n",
      "\n",
      "JupyterDash is deprecated, use Dash instead.\n",
      "See https://dash.plotly.com/dash-in-jupyter for more details.\n",
      "\n"
     ]
    },
    {
     "data": {
      "text/html": [
       "\n",
       "        <iframe\n",
       "            width=\"100%\"\n",
       "            height=\"650\"\n",
       "            src=\"http://127.0.0.1:8050/\"\n",
       "            frameborder=\"0\"\n",
       "            allowfullscreen\n",
       "            \n",
       "        ></iframe>\n",
       "        "
      ],
      "text/plain": [
       "<IPython.lib.display.IFrame at 0x2819f72d490>"
      ]
     },
     "metadata": {},
     "output_type": "display_data"
    }
   ],
   "source": [
    "from dash import html, dcc\n",
    "from dash.dependencies import Input, Output\n",
    "from jupyter_dash import JupyterDash  \n",
    "\n",
    "app = JupyterDash(__name__)\n",
    "\n",
    "app.layout = html.Div([\n",
    "    html.Label(\n",
    "        \"Select a country\",\n",
    "        style={\"color\": \"black\", \"fontSize\": \"24px\"}  # change color here\n",
    "    ),\n",
    "    dcc.Dropdown(\n",
    "        options=[\"USA\", \"India\", \"China\", \"Indonesia\", \"Nigeria\"],\n",
    "        value=\"Nigeria\",\n",
    "        id=\"Country-choice\"\n",
    "    \n",
    "    ),\n",
    "    html.H3(id=\"Selected-country\")\n",
    "\n",
    "])\n",
    "\n",
    "@app.callback(\n",
    "    Output(\"Selected-country\", \"children\"),\n",
    "    Input(\"Country-choice\", \"value\")\n",
    ")\n",
    "def country_picker(country):\n",
    "    return f\"I'm from {country}\"\n",
    "# Run inside Jupyter\n",
    "app.run(mode=\"inline\")\n"
   ]
  }
 ],
 "metadata": {
  "kernelspec": {
   "display_name": "ML-WK",
   "language": "python",
   "name": "python3"
  },
  "language_info": {
   "codemirror_mode": {
    "name": "ipython",
    "version": 3
   },
   "file_extension": ".py",
   "mimetype": "text/x-python",
   "name": "python",
   "nbconvert_exporter": "python",
   "pygments_lexer": "ipython3",
   "version": "3.11.5"
  }
 },
 "nbformat": 4,
 "nbformat_minor": 5
}
