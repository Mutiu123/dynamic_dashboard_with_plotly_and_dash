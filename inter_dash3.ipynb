{
 "cells": [
  {
   "cell_type": "code",
   "execution_count": 9,
   "id": "439bfc5c",
   "metadata": {},
   "outputs": [
    {
     "name": "stdout",
     "output_type": "stream",
     "text": [
      "Dash app running on http://127.0.0.1:8050/\n"
     ]
    },
    {
     "data": {
      "application/javascript": "window.open('http://127.0.0.1:8050/')",
      "text/plain": [
       "<IPython.core.display.Javascript object>"
      ]
     },
     "metadata": {},
     "output_type": "display_data"
    }
   ],
   "source": [
    "from dash import html, dcc, Dash\n",
    "from dash.dependencies import Input, Output\n",
    "from jupyter_dash import JupyterDash  \n",
    "\n",
    "app = Dash(__name__)\n",
    "\n",
    "app.layout = html.Div([\n",
    "    html.Label(\n",
    "        \"Select a country\",\n",
    "        style={\"color\": \"black\", \"fontSize\": \"24px\"}  # change color here\n",
    "    ),\n",
    "    dcc.Dropdown(\n",
    "        options=[\"USA\", \"India\", \"China\", \"Indonesia\", \"Nigeria\"],\n",
    "        value=\"Nigeria\",\n",
    "        id=\"Country-choice\"\n",
    "    \n",
    "    ),\n",
    "    html.H3(id=\"Selected-country\")\n",
    "\n",
    "])\n",
    "\n",
    "@app.callback(\n",
    "    Output(\"Selected-country\", \"children\"),\n",
    "    Input(\"Country-choice\", \"value\")\n",
    ")\n",
    "def country_picker(country):\n",
    "    return f\"I'm from {country}\"\n",
    "# Run inside Jupyter\n",
    "app.run(jupyter_mode=\"tab\")\n"
   ]
  }
 ],
 "metadata": {
  "kernelspec": {
   "display_name": "ML-WK",
   "language": "python",
   "name": "python3"
  },
  "language_info": {
   "codemirror_mode": {
    "name": "ipython",
    "version": 3
   },
   "file_extension": ".py",
   "mimetype": "text/x-python",
   "name": "python",
   "nbconvert_exporter": "python",
   "pygments_lexer": "ipython3",
   "version": "3.11.5"
  }
 },
 "nbformat": 4,
 "nbformat_minor": 5
}
