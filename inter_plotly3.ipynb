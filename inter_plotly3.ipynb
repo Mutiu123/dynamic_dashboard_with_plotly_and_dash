{
 "cells": [
  {
   "cell_type": "code",
   "execution_count": 2,
   "id": "bdfe6553",
   "metadata": {},
   "outputs": [
    {
     "data": {
      "text/html": [
       "\n",
       "        <iframe\n",
       "            width=\"100%\"\n",
       "            height=\"650\"\n",
       "            src=\"http://127.0.0.1:8050/\"\n",
       "            frameborder=\"0\"\n",
       "            allowfullscreen\n",
       "            \n",
       "        ></iframe>\n",
       "        "
      ],
      "text/plain": [
       "<IPython.lib.display.IFrame at 0x292c6677f90>"
      ]
     },
     "metadata": {},
     "output_type": "display_data"
    }
   ],
   "source": [
    "from dash import html, dcc\n",
    "from jupyter_dash import JupyterDash  \n",
    "\n",
    "app = JupyterDash(__name__)\n",
    "\n",
    "app.layout = html.Div(\n",
    "    \"Testing Jupyter Dash\",\n",
    "    style={\n",
    "        \"color\": \"white\",            # text color\n",
    "        \"backgroundColor\": \"black\",  # background color (so white text is visible)\n",
    "        \"padding\": \"20px\",           # optional padding\n",
    "        \"fontSize\": \"24px\"           # optional bigger text\n",
    "    }\n",
    ")\n",
    "\n",
    "# Run inside Jupyter\n",
    "app.run(mode=\"inline\")\n"
   ]
  }
 ],
 "metadata": {
  "kernelspec": {
   "display_name": "ML-WK",
   "language": "python",
   "name": "python3"
  },
  "language_info": {
   "codemirror_mode": {
    "name": "ipython",
    "version": 3
   },
   "file_extension": ".py",
   "mimetype": "text/x-python",
   "name": "python",
   "nbconvert_exporter": "python",
   "pygments_lexer": "ipython3",
   "version": "3.11.5"
  }
 },
 "nbformat": 4,
 "nbformat_minor": 5
}
