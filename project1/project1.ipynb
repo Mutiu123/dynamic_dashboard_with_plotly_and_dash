{
 "cells": [
  {
   "cell_type": "code",
   "execution_count": 80,
   "id": "b2d31a6c",
   "metadata": {},
   "outputs": [],
   "source": [
    "from dash import html, dcc, Dash\n",
    "from jupyter_dash import JupyterDash\n",
    "from dash.dependencies import Input, Output\n",
    "from dash.exceptions import PreventUpdate\n",
    "import pandas as pd\n",
    "import seaborn as sns\n",
    "import plotly.express as px"
   ]
  },
  {
   "cell_type": "code",
   "execution_count": 81,
   "id": "a42c4eed",
   "metadata": {},
   "outputs": [
    {
     "data": {
      "text/html": [
       "<div>\n",
       "<style scoped>\n",
       "    .dataframe tbody tr th:only-of-type {\n",
       "        vertical-align: middle;\n",
       "    }\n",
       "\n",
       "    .dataframe tbody tr th {\n",
       "        vertical-align: top;\n",
       "    }\n",
       "\n",
       "    .dataframe thead th {\n",
       "        text-align: right;\n",
       "    }\n",
       "</style>\n",
       "<table border=\"1\" class=\"dataframe\">\n",
       "  <thead>\n",
       "    <tr style=\"text-align: right;\">\n",
       "      <th></th>\n",
       "      <th>STATE</th>\n",
       "      <th>YEAR</th>\n",
       "      <th>TOTAL_EXPENDITURE</th>\n",
       "    </tr>\n",
       "  </thead>\n",
       "  <tbody>\n",
       "    <tr>\n",
       "      <th>0</th>\n",
       "      <td>ALABAMA</td>\n",
       "      <td>1992</td>\n",
       "      <td>2653798.0</td>\n",
       "    </tr>\n",
       "    <tr>\n",
       "      <th>1</th>\n",
       "      <td>ALASKA</td>\n",
       "      <td>1992</td>\n",
       "      <td>972488.0</td>\n",
       "    </tr>\n",
       "    <tr>\n",
       "      <th>2</th>\n",
       "      <td>ARIZONA</td>\n",
       "      <td>1992</td>\n",
       "      <td>3401580.0</td>\n",
       "    </tr>\n",
       "    <tr>\n",
       "      <th>3</th>\n",
       "      <td>ARKANSAS</td>\n",
       "      <td>1992</td>\n",
       "      <td>1743022.0</td>\n",
       "    </tr>\n",
       "    <tr>\n",
       "      <th>4</th>\n",
       "      <td>CALIFORNIA</td>\n",
       "      <td>1992</td>\n",
       "      <td>27138832.0</td>\n",
       "    </tr>\n",
       "  </tbody>\n",
       "</table>\n",
       "</div>"
      ],
      "text/plain": [
       "        STATE  YEAR  TOTAL_EXPENDITURE\n",
       "0     ALABAMA  1992          2653798.0\n",
       "1      ALASKA  1992           972488.0\n",
       "2     ARIZONA  1992          3401580.0\n",
       "3    ARKANSAS  1992          1743022.0\n",
       "4  CALIFORNIA  1992         27138832.0"
      ]
     },
     "execution_count": 81,
     "metadata": {},
     "output_type": "execute_result"
    }
   ],
   "source": [
    "df = pd.read_csv(\"states_all.csv\", usecols=[\"STATE\", \"YEAR\", \"TOTAL_EXPENDITURE\"])\n",
    "df.head()"
   ]
  },
  {
   "cell_type": "code",
   "execution_count": 82,
   "id": "e2df49b2",
   "metadata": {},
   "outputs": [],
   "source": [
    "#df[\"STATE\"].unique()\n",
    "\n",
    "#df=df.query(\"STATE =='ALASKA' & YEAR > 1992\")"
   ]
  },
  {
   "cell_type": "code",
   "execution_count": 83,
   "id": "3fac2c32",
   "metadata": {},
   "outputs": [],
   "source": [
    "#px.line(df, x=\"YEAR\", y=\"TOTAL_EXPENDITURE\", title=\"Expenditure in Washington\")"
   ]
  },
  {
   "cell_type": "code",
   "execution_count": 84,
   "id": "0401433d",
   "metadata": {},
   "outputs": [
    {
     "name": "stderr",
     "output_type": "stream",
     "text": [
      "c:\\Users\\adegb\\miniconda3\\envs\\ML-WK\\Lib\\site-packages\\dash\\dash.py:634: UserWarning:\n",
      "\n",
      "JupyterDash is deprecated, use Dash instead.\n",
      "See https://dash.plotly.com/dash-in-jupyter for more details.\n",
      "\n"
     ]
    }
   ],
   "source": [
    "app = JupyterDash(__name__)\n",
    "\n",
    "app.layout = html.Div([\n",
    "    html.H3(\"Expenditure in Selected Satate\"),\n",
    "    dcc.Dropdown(id=\"dropdown\", options=df[\"STATE\"].unique()),\n",
    "    dcc.Graph(id=\"visual\")\n",
    "\n",
    "])"
   ]
  },
  {
   "cell_type": "code",
   "execution_count": null,
   "id": "955fffac",
   "metadata": {},
   "outputs": [
    {
     "name": "stdout",
     "output_type": "stream",
     "text": [
      "Dash app running on http://127.0.0.1:8763/\n"
     ]
    },
    {
     "data": {
      "application/javascript": "window.open('http://127.0.0.1:8763/')",
      "text/plain": [
       "<IPython.core.display.Javascript object>"
      ]
     },
     "metadata": {},
     "output_type": "display_data"
    }
   ],
   "source": [
    "@app.callback(Output(\"visual\",\"figure\"), Input(\"dropdown\", \"value\"))\n",
    "def expenditure_plot(STATE):\n",
    "    figure = px.line(\n",
    "        df.query(f\"STATE =='{STATE}'\"),\n",
    "        x=\"YEAR\",\n",
    "        y=\"TOTAL_EXPENDITURE\",\n",
    "        title=f\"Expenditure in {STATE}\"\n",
    "    )\n",
    "    return figure\n",
    "\n",
    "if __name__ == \"__main__\":\n",
    "    #app.run(mode=\"inline\")\n",
    "    app.run(jupyter_mode=\"tab\", debug=True, port=8765)"
   ]
  }
 ],
 "metadata": {
  "kernelspec": {
   "display_name": "ML-WK",
   "language": "python",
   "name": "python3"
  },
  "language_info": {
   "codemirror_mode": {
    "name": "ipython",
    "version": 3
   },
   "file_extension": ".py",
   "mimetype": "text/x-python",
   "name": "python",
   "nbconvert_exporter": "python",
   "pygments_lexer": "ipython3",
   "version": "3.11.5"
  }
 },
 "nbformat": 4,
 "nbformat_minor": 5
}
