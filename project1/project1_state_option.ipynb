{
 "cells": [
  {
   "cell_type": "code",
   "execution_count": 9,
   "id": "0c1ffb57",
   "metadata": {},
   "outputs": [
    {
     "name": "stderr",
     "output_type": "stream",
     "text": [
      "c:\\Users\\adegb\\miniconda3\\envs\\ML-WK\\Lib\\site-packages\\dash\\dash.py:634: UserWarning:\n",
      "\n",
      "JupyterDash is deprecated, use Dash instead.\n",
      "See https://dash.plotly.com/dash-in-jupyter for more details.\n",
      "\n"
     ]
    },
    {
     "name": "stdout",
     "output_type": "stream",
     "text": [
      "Dash app running on http://127.0.0.1:8765/\n"
     ]
    },
    {
     "data": {
      "application/javascript": "window.open('http://127.0.0.1:8765/')",
      "text/plain": [
       "<IPython.core.display.Javascript object>"
      ]
     },
     "metadata": {},
     "output_type": "display_data"
    }
   ],
   "source": [
    "from dash import html, dcc\n",
    "from dash.dependencies import Input, Output\n",
    "from jupyter_dash import JupyterDash\n",
    "from dash.exceptions import PreventUpdate\n",
    "import pandas as pd\n",
    "import plotly.express as px\n",
    "\n",
    "df = pd.read_csv(\"states_all.csv\", usecols= [\"STATE\", \"YEAR\", \"TOTAL_EXPENDITURE\"])\n",
    "app = JupyterDash(__name__) \n",
    "\n",
    "app.layout = html.Div(\n",
    "    [\"Select a State to Analyzes: \",\n",
    "    dcc.Dropdown(\n",
    "        id=\"State Dropdown\",\n",
    "        options=[\"California\", \"Oregon\", \"Washington\"]\n",
    "    ),\n",
    "    dcc.Graph(id=\"visual\")\n",
    "         \n",
    "])\n",
    "@app.callback(\n",
    "    Output(\"visual\", \"figure\"),\n",
    "    Input(\"State Dropdown\", \"value\")\n",
    ")\n",
    "def update_output_div(state):\n",
    "    if not state:\n",
    "        raise PreventUpdate\n",
    "    figure = px.line(\n",
    "        df.query(f\"STATE == '{state.upper()}' & YEAR > 1992\"),\n",
    "        x=\"YEAR\",\n",
    "        y=\"TOTAL_EXPENDITURE\",\n",
    "        title=f\"Expenditure in {state}\"\n",
    "    )\n",
    "    return figure\n",
    "\n",
    "if __name__ == \"__main__\":\n",
    "    app.run(jupyter_mode=\"tab\", debug=True, port=8765)"
   ]
  }
 ],
 "metadata": {
  "kernelspec": {
   "display_name": "ML-WK",
   "language": "python",
   "name": "python3"
  },
  "language_info": {
   "codemirror_mode": {
    "name": "ipython",
    "version": 3
   },
   "file_extension": ".py",
   "mimetype": "text/x-python",
   "name": "python",
   "nbconvert_exporter": "python",
   "pygments_lexer": "ipython3",
   "version": "3.11.5"
  }
 },
 "nbformat": 4,
 "nbformat_minor": 5
}
